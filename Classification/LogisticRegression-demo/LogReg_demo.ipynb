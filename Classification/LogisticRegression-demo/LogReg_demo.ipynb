{
 "cells": [
  {
   "cell_type": "markdown",
   "metadata": {},
   "source": [
    "# Intro\n",
    "This program performs two different logistic regression implementations on two\n",
    "different datasets of the format [float,float,boolean], one\n",
    "implementation is in this file and one from the sklearn library. The program\n",
    "then compares the two implementations for how well the can predict the given outcome\n",
    "for each input tuple in the datasets."
   ]
  },
  {
   "cell_type": "markdown",
   "metadata": {},
   "source": [
    "## Import libs"
   ]
  },
  {
   "cell_type": "code",
   "execution_count": 5,
   "metadata": {},
   "outputs": [],
   "source": [
    "import math\n",
    "import numpy as np\n",
    "import pandas as pd\n",
    "from pandas import DataFrame\n",
    "from sklearn import preprocessing\n",
    "from sklearn.linear_model import LogisticRegression\n",
    "from sklearn.model_selection import train_test_split\n",
    "from numpy import loadtxt, where\n",
    "from pylab import scatter, show, legend, xlabel, ylabel"
   ]
  },
  {
   "cell_type": "code",
   "execution_count": 6,
   "metadata": {},
   "outputs": [],
   "source": [
    "# scale larger positive and values to between -1,1 depending on the largest\n",
    "# value in the data\n",
    "min_max_scaler = preprocessing.MinMaxScaler(feature_range=(-1,1))\n",
    "df = pd.read_csv(\"data.csv\", header=0)"
   ]
  },
  {
   "cell_type": "code",
   "execution_count": 22,
   "metadata": {},
   "outputs": [
    {
     "data": {
      "text/html": [
       "<div>\n",
       "<style scoped>\n",
       "    .dataframe tbody tr th:only-of-type {\n",
       "        vertical-align: middle;\n",
       "    }\n",
       "\n",
       "    .dataframe tbody tr th {\n",
       "        vertical-align: top;\n",
       "    }\n",
       "\n",
       "    .dataframe thead th {\n",
       "        text-align: right;\n",
       "    }\n",
       "</style>\n",
       "<table border=\"1\" class=\"dataframe\">\n",
       "  <thead>\n",
       "    <tr style=\"text-align: right;\">\n",
       "      <th></th>\n",
       "      <th>grade1</th>\n",
       "      <th>grade2</th>\n",
       "    </tr>\n",
       "  </thead>\n",
       "  <tbody>\n",
       "    <tr>\n",
       "      <th>count</th>\n",
       "      <td>100.000000</td>\n",
       "      <td>100.000000</td>\n",
       "    </tr>\n",
       "    <tr>\n",
       "      <th>mean</th>\n",
       "      <td>65.644274</td>\n",
       "      <td>66.221998</td>\n",
       "    </tr>\n",
       "    <tr>\n",
       "      <th>std</th>\n",
       "      <td>19.458222</td>\n",
       "      <td>18.582783</td>\n",
       "    </tr>\n",
       "    <tr>\n",
       "      <th>min</th>\n",
       "      <td>30.058822</td>\n",
       "      <td>30.603263</td>\n",
       "    </tr>\n",
       "    <tr>\n",
       "      <th>25%</th>\n",
       "      <td>50.919511</td>\n",
       "      <td>48.179205</td>\n",
       "    </tr>\n",
       "    <tr>\n",
       "      <th>50%</th>\n",
       "      <td>67.032988</td>\n",
       "      <td>67.682381</td>\n",
       "    </tr>\n",
       "    <tr>\n",
       "      <th>75%</th>\n",
       "      <td>80.212529</td>\n",
       "      <td>79.360605</td>\n",
       "    </tr>\n",
       "    <tr>\n",
       "      <th>max</th>\n",
       "      <td>99.827858</td>\n",
       "      <td>98.869436</td>\n",
       "    </tr>\n",
       "  </tbody>\n",
       "</table>\n",
       "</div>"
      ],
      "text/plain": [
       "           grade1      grade2\n",
       "count  100.000000  100.000000\n",
       "mean    65.644274   66.221998\n",
       "std     19.458222   18.582783\n",
       "min     30.058822   30.603263\n",
       "25%     50.919511   48.179205\n",
       "50%     67.032988   67.682381\n",
       "75%     80.212529   79.360605\n",
       "max     99.827858   98.869436"
      ]
     },
     "execution_count": 22,
     "metadata": {},
     "output_type": "execute_result"
    }
   ],
   "source": [
    "df.describe()"
   ]
  },
  {
   "cell_type": "code",
   "execution_count": 23,
   "metadata": {},
   "outputs": [
    {
     "data": {
      "text/plain": [
       "(100, 3)"
      ]
     },
     "execution_count": 23,
     "metadata": {},
     "output_type": "execute_result"
    }
   ],
   "source": [
    "df.shape"
   ]
  },
  {
   "cell_type": "markdown",
   "metadata": {},
   "source": [
    "Cleanup data index/headers\n"
   ]
  },
  {
   "cell_type": "code",
   "execution_count": 27,
   "metadata": {},
   "outputs": [
    {
     "data": {
      "text/plain": [
       "Index(['grade1', 'grade2', 'label'], dtype='object')"
      ]
     },
     "execution_count": 27,
     "metadata": {},
     "output_type": "execute_result"
    }
   ],
   "source": [
    "df.columns = [\"grade1\",\"grade2\",\"label\"]\n",
    "df.columns"
   ]
  },
  {
   "cell_type": "code",
   "execution_count": 35,
   "metadata": {},
   "outputs": [],
   "source": [
    "x = df[\"label\"].map(lambda x: float(x.rstrip(';')))\n",
    "\n",
    "# formats the input data into two arrays, one of independant variables\n",
    "# and one of the dependant variable\n",
    "X = df[[\"grade1\",\"grade2\"]]\n",
    "X = np.array(X)\n",
    "X = min_max_scaler.fit_transform(X)\n",
    "Y = df[\"label\"].map(lambda x: float(x.rstrip(';')))\n",
    "Y = np.array(Y)"
   ]
  },
  {
   "cell_type": "code",
   "execution_count": null,
   "metadata": {},
   "outputs": [],
   "source": [
    "#if want to create a new clean dataset \n",
    "##X = pd.DataFrame.from_records(X,columns=['grade1','grade2'])\n",
    "##X.insert(2,'label',Y)\n",
    "##X.to_csv('data2.csv')"
   ]
  },
  {
   "cell_type": "code",
   "execution_count": 40,
   "metadata": {},
   "outputs": [],
   "source": [
    "# creating testing and training set\n",
    "X_train,X_test,Y_train,Y_test = train_test_split(X,Y,test_size=0.33)"
   ]
  },
  {
   "cell_type": "code",
   "execution_count": 42,
   "metadata": {},
   "outputs": [
    {
     "name": "stdout",
     "output_type": "stream",
     "text": [
      "score Scikit learn:  0.8787878787878788\n"
     ]
    },
    {
     "name": "stderr",
     "output_type": "stream",
     "text": [
      "c:\\users\\hallary\\appdata\\local\\programs\\python\\python37-32\\lib\\site-packages\\sklearn\\linear_model\\logistic.py:433: FutureWarning: Default solver will be changed to 'lbfgs' in 0.22. Specify a solver to silence this warning.\n",
      "  FutureWarning)\n"
     ]
    }
   ],
   "source": [
    "# train scikit learn model \n",
    "clf = LogisticRegression()\n",
    "clf.fit(X_train,Y_train)\n",
    "print ('score Scikit learn: ', clf.score(X_test,Y_test))"
   ]
  },
  {
   "cell_type": "code",
   "execution_count": 142,
   "metadata": {},
   "outputs": [
    {
     "data": {
      "image/png": "[encoded data removed]",
      "text/plain": [
       "<Figure size 432x288 with 1 Axes>"
      ]
     },
     "metadata": {
      "needs_background": "light"
     },
     "output_type": "display_data"
    }
   ],
   "source": [
    "# visualize data, uncomment \"show()\" to run it\n",
    "pos = where(Y == 1)\n",
    "neg = where(Y == 0)\n",
    "scatter(X[pos, 0], X[pos, 1], marker='o', c='b')\n",
    "scatter(X[neg, 0], X[neg, 1], marker='*', c='r')\n",
    "xlabel('Exam 1 score')\n",
    "ylabel('Exam 2 score')\n",
    "legend(['Not Admitted', 'Admitted'])\n",
    "show()"
   ]
  },
  {
   "cell_type": "markdown",
   "metadata": {},
   "source": [
    "# Algorithm"
   ]
  },
  {
   "cell_type": "markdown",
   "metadata": {},
   "source": [
    "## Sigmoid "
   ]
  },
  {
   "cell_type": "code",
   "execution_count": 99,
   "metadata": {},
   "outputs": [],
   "source": [
    "##The sigmoid function adjusts the cost function hypotheses to adjust the algorithm proportionally for worse estimations\n",
    "def Sigmoid(z):\n",
    "\tG_of_Z = float(1.0 / float((1.0 + math.exp(-1.0*z))))\n",
    "\treturn G_of_Z "
   ]
  },
  {
   "cell_type": "markdown",
   "metadata": {},
   "source": [
    "## Hypothesis"
   ]
  },
  {
   "cell_type": "code",
   "execution_count": 100,
   "metadata": {},
   "outputs": [],
   "source": [
    "##The hypothesis is the linear combination of all the known factors x[i] and their current estimated coefficients theta[i] \n",
    "##This hypothesis will be used to calculate each instance of the Cost Function\n",
    "def Hypothesis(theta, x):\n",
    "\tz = 0\n",
    "\tfor i in range(len(theta)):\n",
    "\t\tz += x[i]*theta[i]\n",
    "\treturn Sigmoid(z)"
   ]
  },
  {
   "cell_type": "markdown",
   "metadata": {},
   "source": [
    "## Cost function "
   ]
  },
  {
   "cell_type": "code",
   "execution_count": 101,
   "metadata": {},
   "outputs": [],
   "source": [
    "##For each member of the dataset, the result (Y) determines which variation of the cost function is used\n",
    "##The Y = 0 cost function punishes high probability estimations, and the Y = 1 it punishes low scores\n",
    "##The \"punishment\" makes the change in the gradient of ThetaCurrent - Average(CostFunction(Dataset)) greater\n",
    "def Cost_Function(X,Y,theta,m):\n",
    "\tsumOfErrors = 0\n",
    "\tfor i in range(m):\n",
    "\t\txi = X[i]\n",
    "\t\thi = Hypothesis(theta,xi)\n",
    "\t\tif Y[i] == 1:\n",
    "\t\t\terror = Y[i] * math.log(hi)\n",
    "\t\telif Y[i] == 0:\n",
    "\t\t\terror = (1-Y[i]) * math.log(1-hi)\n",
    "\t\tsumOfErrors += error\n",
    "\tconst = -1/m\n",
    "\tJ = const * sumOfErrors\n",
    "\tprint ('cost is ', J) \n",
    "\treturn J"
   ]
  },
  {
   "cell_type": "markdown",
   "metadata": {},
   "source": [
    "## Cost function derivative"
   ]
  },
  {
   "cell_type": "code",
   "execution_count": 102,
   "metadata": {},
   "outputs": [],
   "source": [
    "##This function creates the gradient component for each Theta value \n",
    "##The gradient is the partial derivative by Theta of the current value of theta minus \n",
    "##a \"learning speed factor aplha\" times the average of all the cost functions for that theta\n",
    "##For each Theta there is a cost function calculated for each member of the dataset\n",
    "def Cost_Function_Derivative(X,Y,theta,j,m,alpha):\n",
    "\tsumErrors = 0\n",
    "\tfor i in range(m):\n",
    "\t\txi = X[i]\n",
    "\t\txij = xi[j]\n",
    "\t\thi = Hypothesis(theta,X[i])\n",
    "\t\terror = (hi - Y[i])*xij\n",
    "\t\tsumErrors += error\n",
    "\tm = len(Y)\n",
    "\tconstant = float(alpha)/float(m)\n",
    "\tJ = constant * sumErrors\n",
    "\treturn J"
   ]
  },
  {
   "cell_type": "markdown",
   "metadata": {},
   "source": [
    "## Gradient descent "
   ]
  },
  {
   "cell_type": "code",
   "execution_count": 103,
   "metadata": {},
   "outputs": [],
   "source": [
    "##For each theta, the partial differential \n",
    "##The gradient, or vector from the current point in Theta-space (each theta value is its own dimension) to the more accurate point, \n",
    "##is the vector with each dimensional component being the partial differential for each theta value\n",
    "def Gradient_Descent(X,Y,theta,m,alpha):\n",
    "\tnew_theta = []\n",
    "\tconstant = alpha/m\n",
    "\tfor j in range(len(theta)):\n",
    "\t\tCFDerivative = Cost_Function_Derivative(X,Y,theta,j,m,alpha)\n",
    "\t\tnew_theta_value = theta[j] - CFDerivative\n",
    "\t\tnew_theta.append(new_theta_value)\n",
    "\treturn new_theta\n"
   ]
  },
  {
   "cell_type": "markdown",
   "metadata": {},
   "source": [
    "## Logistic regression "
   ]
  },
  {
   "cell_type": "code",
   "execution_count": 179,
   "metadata": {},
   "outputs": [],
   "source": [
    "##The high level function for the LR algorithm which, for a number of steps (num_iters) finds gradients which take \n",
    "##the Theta values (coefficients of known factors) from an estimation closer (new_theta) to their \"optimum estimation\" which is the\n",
    "##set of values best representing the system in a linear combination model\n",
    "def Logistic_Regression(X,Y,alpha,theta,num_iters):\n",
    "\tm = len(Y)\n",
    "\tfor x in range(num_iters):\n",
    "\t\tnew_theta = Gradient_Descent(X,Y,theta,m,alpha)\n",
    "\t\ttheta = new_theta\n",
    "\t\tif x % 100 == 0:\n",
    "\t\t\t#here the cost function is used to present the final hypothesis of the model in the same form for each gradient-step iteration\n",
    "\t\t\tCost_Function(X,Y,theta,m)\n",
    "\t\t\tprint ('\\ntheta ', theta)\n",
    "\t\t\tprint ('cost is ', Cost_Function(X,Y,theta,m))\n",
    "\t\t\tDeclare_Winner(theta)"
   ]
  },
  {
   "cell_type": "markdown",
   "metadata": {},
   "source": [
    "## This method compares the accuracy of the model generated by the scikit library with the model generated by this implementation"
   ]
  },
  {
   "cell_type": "code",
   "execution_count": 180,
   "metadata": {},
   "outputs": [],
   "source": [
    "def Declare_Winner(theta):\n",
    "    score = 0\n",
    "    winner = \"\"\n",
    "    #first scikit LR is tested for each independent var in the dataset and its prediction is compared against the dependent var\n",
    "    #if the prediction is the same as the dataset measured value it counts as a point for thie scikit version of LR\n",
    "    scikit_score = clf.score(X_test,Y_test)\n",
    "    length = len(X_test)\n",
    "    for i in range(length):\n",
    "        prediction = round(Hypothesis(X_test[i],theta))\n",
    "        answer = Y_test[i]\n",
    "        if prediction == answer:\n",
    "            score += 1\n",
    "    #the same process is repeated for the implementation from this module and the scores compared to find the higher match-rate\n",
    "    my_score = float(score) / float(length)\n",
    "    if my_score > scikit_score:\n",
    "        print ('You won!')\n",
    "    elif my_score == scikit_score:\n",
    "        print ('Its a tie!')\n",
    "    else:\n",
    "        print( 'Scikit won.. :(')\n",
    "    print ('Your score: ', my_score)\n",
    "    print ('Scikits score: ', scikit_score)"
   ]
  },
  {
   "cell_type": "markdown",
   "metadata": {},
   "source": [
    "# Details \n",
    "\n",
    "- These are the initial guesses for theta as well as the learning rate of the algorithm\n",
    "- A learning rate too low will not close in on the most accurate values within a reasonable number of iterations\n",
    "- An alpha too high might overshoot the accurate values or cause irratic guesses\n",
    "- Each iteration increases model accuracy but with diminishing returns, and takes a signficicant coefficient times O(n)*|Theta|, n = dataset length"
   ]
  },
  {
   "cell_type": "code",
   "execution_count": 187,
   "metadata": {},
   "outputs": [],
   "source": [
    "initial_theta = [10,10]\n",
    "alpha = 0.1\n",
    "iterations = 1000"
   ]
  },
  {
   "cell_type": "code",
   "execution_count": 188,
   "metadata": {},
   "outputs": [
    {
     "name": "stdout",
     "output_type": "stream",
     "text": [
      "cost is  0.28906090211984914\n",
      "\n",
      "theta  [10.000244674538134, 9.998378243850365]\n",
      "cost is  0.28906090211984914\n",
      "cost is  0.28906090211984914\n",
      "Scikit won.. :(\n",
      "Your score:  0.8181818181818182\n",
      "Scikits score:  0.8787878787878788\n",
      "cost is  0.28680797273573927\n",
      "\n",
      "theta  [10.012602673095621, 9.849034163067175]\n",
      "cost is  0.28680797273573927\n",
      "cost is  0.28680797273573927\n",
      "Scikit won.. :(\n",
      "Your score:  0.7878787878787878\n",
      "Scikits score:  0.8787878787878788\n",
      "cost is  0.28515861891176875\n",
      "\n",
      "theta  [10.0051536429652, 9.720985079948646]\n",
      "cost is  0.28515861891176875\n",
      "cost is  0.28515861891176875\n",
      "Scikit won.. :(\n",
      "Your score:  0.7878787878787878\n",
      "Scikits score:  0.8787878787878788\n",
      "cost is  0.28385690562123567\n",
      "\n",
      "theta  [9.982954536390212, 9.609177776564332]\n",
      "cost is  0.28385690562123567\n",
      "cost is  0.28385690562123567\n",
      "Scikit won.. :(\n",
      "Your score:  0.7878787878787878\n",
      "Scikits score:  0.8787878787878788\n",
      "cost is  0.28275727160048614\n",
      "\n",
      "theta  [9.949806447965367, 9.509757693841458]\n",
      "cost is  0.28275727160048614\n",
      "cost is  0.28275727160048614\n",
      "Scikit won.. :(\n",
      "Your score:  0.7878787878787878\n",
      "Scikits score:  0.8787878787878788\n",
      "cost is  0.2817771855496017\n",
      "\n",
      "theta  [9.908563265923735, 9.41979935480094]\n",
      "cost is  0.2817771855496017\n",
      "cost is  0.2817771855496017\n",
      "Scikit won.. :(\n",
      "Your score:  0.7878787878787878\n",
      "Scikits score:  0.8787878787878788\n",
      "cost is  0.2808699379643851\n",
      "\n",
      "theta  [9.861368487374223, 9.337088524219514]\n",
      "cost is  0.2808699379643851\n",
      "cost is  0.2808699379643851\n",
      "Scikit won.. :(\n",
      "Your score:  0.7878787878787878\n",
      "Scikits score:  0.8787878787878788\n",
      "cost is  0.2800091326474092\n",
      "\n",
      "theta  [9.809833384184827, 9.25995217777905]\n",
      "cost is  0.2800091326474092\n",
      "cost is  0.2800091326474092\n",
      "Scikit won.. :(\n",
      "Your score:  0.7878787878787878\n",
      "Scikits score:  0.8787878787878788\n",
      "cost is  0.27917987764983254\n",
      "\n",
      "theta  [9.755170169184959, 9.18712789880077]\n",
      "cost is  0.27917987764983254\n",
      "cost is  0.27917987764983254\n",
      "Scikit won.. :(\n",
      "Your score:  0.7878787878787878\n",
      "Scikits score:  0.8787878787878788\n",
      "cost is  0.2783737890991063\n",
      "\n",
      "theta  [9.698291449708798, 9.11766430504323]\n",
      "cost is  0.2783737890991063\n",
      "cost is  0.2783737890991063\n",
      "Scikit won.. :(\n",
      "Your score:  0.7878787878787878\n",
      "Scikits score:  0.8787878787878788\n"
     ]
    }
   ],
   "source": [
    "Logistic_Regression(X,Y,alpha,initial_theta,iterations)"
   ]
  }
 ],
 "metadata": {
  "kernelspec": {
   "display_name": "Python 3",
   "language": "python",
   "name": "python3"
  },
  "language_info": {
   "codemirror_mode": {
    "name": "ipython",
    "version": 3
   },
   "file_extension": ".py",
   "mimetype": "text/x-python",
   "name": "python",
   "nbconvert_exporter": "python",
   "pygments_lexer": "ipython3",
   "version": "3.7.0"
  }
 },
 "nbformat": 4,
 "nbformat_minor": 2
}
